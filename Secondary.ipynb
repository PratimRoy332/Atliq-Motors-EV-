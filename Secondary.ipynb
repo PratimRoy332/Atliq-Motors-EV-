{
 "cells": [
  {
   "cell_type": "markdown",
   "id": "2d612ad8-429f-49d8-a1fa-122044801eb8",
   "metadata": {},
   "source": [
    "# Secondary Questions"
   ]
  },
  {
   "cell_type": "markdown",
   "id": "955283c2-5d48-4d66-b5de-9b8503d15ed3",
   "metadata": {},
   "source": [
    "# 1.What are the primary reasons for customers choosing 4-wheeler EVs in 2023 and 2024 (cost savings, environmental concerns, government incentives)?¶"
   ]
  },
  {
   "cell_type": "raw",
   "id": "0ada57a0-75ae-4a87-a5e7-bb17c4fa2fdb",
   "metadata": {},
   "source": [
    "Cost Saving :\n",
    "Fuel cost free\n",
    "Vehicle maintanance cost free\n",
    "Economical concern :\n",
    "Reduced emission\n",
    "Increased awarness\n",
    "Low emission zone\n",
    "Goverment incentives: \n",
    "Tax credit\n",
    "Goverment Policy & incetives"
   ]
  },
  {
   "cell_type": "markdown",
   "id": "d4007716-6f38-4704-97f0-34ba8073bf03",
   "metadata": {},
   "source": [
    "# 2.\n",
    "# How do government incentives and subsidies impact the adoption rates of 2-wheelers and 4-wheelers? Which states in India provided most subsidies?¶"
   ]
  },
  {
   "cell_type": "raw",
   "id": "f6a326b0-cc67-479d-b9f7-1829ef7dd968",
   "metadata": {},
   "source": [
    "FAME II Scheme\n",
    "The Faster Adoption and Manufacturing of Hybrid and Electric Vehicles (FAME II) scheme is a flagship program of the government that aims to promote the adoption of EVs in the country. Under this scheme, the government provides financial incentives to buyers of EVs, which reduces the upfront cost of purchasing an EV. This scheme has played a significant role in increasing the demand for EVs, which, in turn, has led to an increase in the number of EV financing options available in the market.\n",
    "\n",
    "\n",
    "GST Reduction\n",
    "The Goods and Services Tax (GST) on EVs was reduced from 12% to 5% in 2019 to encourage the adoption of EVs. This reduction in GST has made EVs more affordable, which has led to an increase in the demand for EVs. This increase in demand has led to more financing options being available for EV buyers, including innovative financing models such as battery leasing.\n",
    "\n",
    "Subsidies for EV Charging Infrastructure\n",
    "The government has also announced subsidies for EV charging infrastructure to promote the adoption of EVs. Under this scheme, the government provides financial incentives to individuals and companies for setting up EV charging stations. This has led to an increase in the availability of charging infrastructure, which has increased the demand for EVs. This increase in demand has led to more financing options being available for EV buyers.\n",
    "\n",
    "State-Level Incentives\n",
    "Several states in India have announced their own incentives for EVs. For example, Maharashtra offers a subsidy of up to Rs. 5,000 per kWh of battery capacity for EVs. Similarly, Delhi offers a 100% waiver on road tax for EVs. These state-level incentives have played a significant role in promoting the adoption of EVs in their respective states, which has led to an increase in the demand for EV financing options.\n"
   ]
  },
  {
   "cell_type": "markdown",
   "id": "317dfa28-59f0-4fbd-9dfe-44892033c169",
   "metadata": {},
   "source": [
    "# 3.\n",
    "# How does the availability of charging stations infrastructure correlate with the EV sales and penetration rates in the top 5 states?"
   ]
  },
  {
   "cell_type": "raw",
   "id": "708c0184-0aff-49b9-9dd7-17bcd8a57bd2",
   "metadata": {},
   "source": [
    "Highier sales of EV\n",
    "Lower poluttion in "
   ]
  },
  {
   "cell_type": "markdown",
   "id": "a89c9c5f-0bf7-423a-a149-e354f017240c",
   "metadata": {},
   "source": [
    "# 4.\n",
    "# Who should be the brand ambassador if AtliQ Motors launches their EV/Hybrid vehicles in India and why?"
   ]
  },
  {
   "cell_type": "raw",
   "id": "414f3a4f-c714-442b-8025-4029231fc097",
   "metadata": {},
   "source": [
    "Virat Kohli"
   ]
  },
  {
   "cell_type": "markdown",
   "id": "e3215287-04fd-4812-bef2-dedf8bd02334",
   "metadata": {},
   "source": [
    "# 5.\n",
    "# Which state of India is ideal to start the manufacturing unit? (Based on subsidies provided, ease of doing business, stability in governance etc.)¶"
   ]
  },
  {
   "cell_type": "raw",
   "id": "ec61d8cb-9ab0-403f-b8b1-85be0df6b1fc",
   "metadata": {},
   "source": [
    "Karnataka"
   ]
  },
  {
   "cell_type": "markdown",
   "id": "47efc224-5f29-4d09-96df-119bd9a95417",
   "metadata": {},
   "source": [
    "# 6.\n",
    "# Your top 3 recommendations for AtliQ Motors."
   ]
  },
  {
   "cell_type": "raw",
   "id": "a8aa7fa3-1ef5-4a9e-a775-77af3eb38375",
   "metadata": {},
   "source": [
    "To lower the cost of 2 wheeler \n",
    "Minimal cost of battery\n",
    "Extendation of warraty "
   ]
  }
 ],
 "metadata": {
  "kernelspec": {
   "display_name": "Python 3 (ipykernel)",
   "language": "python",
   "name": "python3"
  },
  "language_info": {
   "codemirror_mode": {
    "name": "ipython",
    "version": 3
   },
   "file_extension": ".py",
   "mimetype": "text/x-python",
   "name": "python",
   "nbconvert_exporter": "python",
   "pygments_lexer": "ipython3",
   "version": "3.12.4"
  }
 },
 "nbformat": 4,
 "nbformat_minor": 5
}
